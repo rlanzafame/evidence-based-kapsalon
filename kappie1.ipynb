{
 "cells": [
  {
   "cell_type": "markdown",
   "id": "bb07b4ea-a1fb-48d7-8029-6ad95fb4f83f",
   "metadata": {},
   "source": [
    "# Preliminary analysis\n",
    "\n",
    "This notebook was started during the data collection event. All outputs have been removed since it originally used unanonymized data. It originally used dataset 05 (now `05.csv`, \"the whole shebang\")."
   ]
  },
  {
   "cell_type": "code",
   "execution_count": null,
   "id": "318d58a9",
   "metadata": {},
   "outputs": [],
   "source": [
    "import os\n",
    "import pandas as pd\n",
    "import matplotlib.pyplot as plt\n",
    "from pathlib import Path\n",
    "import seaborn as sns"
   ]
  },
  {
   "cell_type": "code",
   "execution_count": null,
   "id": "abaa2e7e",
   "metadata": {},
   "outputs": [],
   "source": [
    "f = [f for f in os.listdir(Path()) if f.endswith('.csv')]\n",
    "f"
   ]
  },
  {
   "cell_type": "code",
   "execution_count": null,
   "id": "3e0978bf",
   "metadata": {},
   "outputs": [],
   "source": [
    "Path().resolve()"
   ]
  },
  {
   "cell_type": "code",
   "execution_count": null,
   "id": "8347220f",
   "metadata": {},
   "outputs": [],
   "source": [
    "df = pd.read_csv(Path() / f[0])"
   ]
  },
  {
   "cell_type": "code",
   "execution_count": null,
   "id": "b745c0c1",
   "metadata": {},
   "outputs": [],
   "source": [
    "df.columns"
   ]
  },
  {
   "cell_type": "code",
   "execution_count": null,
   "id": "6a15b0fb",
   "metadata": {},
   "outputs": [],
   "source": [
    "df.columns=['Timestamp', 'Name', 'nr', \n",
    "            'Visual', 'Quality_fries', \n",
    "            'Quantity_fries', \n",
    "            'Quality_crisp', \n",
    "            'Quality_letuce', \n",
    "            'Quantity_letuce', \n",
    "            'Quality_meat', \n",
    "            'Quantity_meat', \n",
    "            'Quality_seasoning', \n",
    "            'comment', 'overall']"
   ]
  },
  {
   "cell_type": "code",
   "execution_count": null,
   "id": "df6b4eee",
   "metadata": {},
   "outputs": [],
   "source": [
    "quality_cols = [c for c in df.columns if c.startswith('Quality')]\n",
    "quantity_cols = [c for c in df.columns if c.startswith('Quantity')]"
   ]
  },
  {
   "cell_type": "code",
   "execution_count": null,
   "id": "49fe71f2",
   "metadata": {},
   "outputs": [],
   "source": [
    "df = df.loc[:, [c for c in df.columns if c!='Visual']]"
   ]
  },
  {
   "cell_type": "code",
   "execution_count": null,
   "id": "2dbd8555",
   "metadata": {},
   "outputs": [],
   "source": [
    "fig, ax = plt.subplots(len(df.nr.unique()), len(quantity_cols), figsize=(12,12))\n",
    "\n",
    "for kappie in range(len(df.nr.unique())):\n",
    "    for i, c in enumerate(quantity_cols):\n",
    "#         ax[kappie, i].plot(df.loc[df.nr==(df.nr.unique()[kappie]), 'overall'], df.loc[df.nr==(df.nr.unique()[kappie]), c], '.')\n",
    "#         ax[kappie, i].plot(df.loc[df.nr==(df.nr.unique()[kappie]), c], df.loc[df.nr==(df.nr.unique()[kappie]), 'overall'], '.')\n",
    "        sns.kdeplot(x=df.loc[df.nr==(df.nr.unique()[kappie]), c], y=df.loc[df.nr==(df.nr.unique()[kappie]), 'overall'], fill=True, ax=ax[kappie, i])\n",
    "        ax[kappie, i].set_xlabel(c)\n",
    "#         ax[kappie, i].set_ylabel(df.loc[df.nr==kappie, 'Name'])\n",
    "        "
   ]
  },
  {
   "cell_type": "code",
   "execution_count": null,
   "id": "001e6cad",
   "metadata": {},
   "outputs": [],
   "source": [
    "fig, ax = plt.subplots(len(df.nr.unique()), len(quality_cols), figsize=(12,12))\n",
    "\n",
    "for kappie in range(len(df.nr.unique())):\n",
    "    for i, c in enumerate(quality_cols):\n",
    "#         ax[kappie, i].plot(df.loc[df.nr==(df.nr.unique()[kappie]), 'overall'], df.loc[df.nr==(df.nr.unique()[kappie]), c], '.')\n",
    "        sns.kdeplot(x=df.loc[df.nr==(df.nr.unique()[kappie]), c], y=df.loc[df.nr==(df.nr.unique()[kappie]), 'overall'], fill=True, ax=ax[kappie, i])\n",
    "        ax[kappie, i].set_xlabel(c)\n",
    "        ax[kappie, i].set_ylabel(kappie)"
   ]
  },
  {
   "cell_type": "code",
   "execution_count": null,
   "id": "d7ccdda3-ae60-415b-a7d1-e548f7bf5cb4",
   "metadata": {},
   "outputs": [],
   "source": [
    " fig, ax = plt.subplots(1, len(quality_cols), figsize=(12,5))\n",
    "for i, c in enumerate(quality_cols):\n",
    "    x = df.loc[:, 'overall']\n",
    "    y = df.loc[:, c]\n",
    "    sns.kdeplot(x=x, y=y, ax=ax[i], fill=True)\n",
    "    ax[i].set_xlabel(c)\n",
    "    ax[i].set_ylabel('overall')"
   ]
  },
  {
   "cell_type": "code",
   "execution_count": null,
   "id": "5f6c3c56-cbdc-47f4-9c38-2438c99f8536",
   "metadata": {},
   "outputs": [],
   "source": [
    " fig, ax = plt.subplots(1, len(quantity_cols), figsize=(12,5))\n",
    "for i, c in enumerate(quantity_cols):\n",
    "    x = df.loc[:, 'overall']\n",
    "    y = df.loc[:, c]\n",
    "    sns.kdeplot(x=x, y=y, ax=ax[i], fill=True)\n",
    "    ax[i].set_xlabel(c)\n",
    "    ax[i].set_ylabel('overall')"
   ]
  },
  {
   "cell_type": "code",
   "execution_count": null,
   "id": "f55c003c",
   "metadata": {},
   "outputs": [],
   "source": [
    "from sklearn.ensemble import RandomForestRegressor"
   ]
  },
  {
   "cell_type": "code",
   "execution_count": null,
   "id": "d8651501",
   "metadata": {},
   "outputs": [],
   "source": [
    "rf = RandomForestRegressor()"
   ]
  },
  {
   "cell_type": "code",
   "execution_count": null,
   "id": "1859cd39",
   "metadata": {},
   "outputs": [],
   "source": [
    "X = df.dropna().loc[:, quality_cols + quantity_cols]\n",
    "y = df.dropna().loc[:, 'overall']"
   ]
  },
  {
   "cell_type": "code",
   "execution_count": null,
   "id": "44b9528c",
   "metadata": {},
   "outputs": [],
   "source": [
    "# df"
   ]
  },
  {
   "cell_type": "code",
   "execution_count": null,
   "id": "4afb2321",
   "metadata": {},
   "outputs": [],
   "source": [
    "rf.fit(X, y)"
   ]
  },
  {
   "cell_type": "code",
   "execution_count": null,
   "id": "9f4ca101",
   "metadata": {},
   "outputs": [],
   "source": [
    "rf.feature_importances_"
   ]
  },
  {
   "cell_type": "code",
   "execution_count": null,
   "id": "c3270ac8",
   "metadata": {},
   "outputs": [],
   "source": [
    "fig, ax = plt.subplots()\n",
    "ax.bar(x=range(len(X.columns)), height=rf.feature_importances_)\n",
    "ax.set_xticklabels(quality_cols + quantity_cols, rotation=45)"
   ]
  },
  {
   "cell_type": "code",
   "execution_count": null,
   "id": "8393a497",
   "metadata": {},
   "outputs": [],
   "source": [
    "df"
   ]
  },
  {
   "cell_type": "code",
   "execution_count": null,
   "id": "9fc8f033",
   "metadata": {},
   "outputs": [],
   "source": [
    "df_grouped=df.groupby(df.nr)['overall'].mean()"
   ]
  },
  {
   "cell_type": "code",
   "execution_count": null,
   "id": "73b0b5e5",
   "metadata": {},
   "outputs": [],
   "source": [
    "fig, ax = plt.subplots()\n",
    "df_grouped.plot(ax=ax)\n",
    "ax.set_xlim(1,7)\n",
    "ax.set_ylim(2, 4)"
   ]
  },
  {
   "cell_type": "code",
   "execution_count": null,
   "id": "92428d1f",
   "metadata": {},
   "outputs": [],
   "source": [
    "df.describe()\n"
   ]
  },
  {
   "cell_type": "code",
   "execution_count": null,
   "id": "eed23b0b",
   "metadata": {},
   "outputs": [],
   "source": [
    "df\n"
   ]
  },
  {
   "cell_type": "code",
   "execution_count": null,
   "id": "21752835",
   "metadata": {},
   "outputs": [],
   "source": [
    "fig, ax = plt.subplots()\n",
    "\n",
    "ydict = {}\n",
    "for n in df.Name.unique():\n",
    "    ydict[n] = df.loc[df.Name==n, 'overall'].mean()\n",
    "\n",
    "ax.bar(x=df.Name.keys(), height=ydict.values())"
   ]
  },
  {
   "cell_type": "code",
   "execution_count": null,
   "id": "75ec6d89",
   "metadata": {},
   "outputs": [],
   "source": [
    "ydict.values()"
   ]
  },
  {
   "cell_type": "code",
   "execution_count": null,
   "id": "b5d7cb86",
   "metadata": {},
   "outputs": [],
   "source": [
    "ydict.keys()"
   ]
  },
  {
   "cell_type": "code",
   "execution_count": null,
   "id": "499e47dd",
   "metadata": {},
   "outputs": [],
   "source": [
    "x\n"
   ]
  },
  {
   "cell_type": "code",
   "execution_count": null,
   "id": "c1f166f9-a839-4dbb-b8b1-a04d72b03a2f",
   "metadata": {},
   "outputs": [],
   "source": []
  },
  {
   "cell_type": "code",
   "execution_count": null,
   "id": "ccd0d69d-3753-44c2-8a1f-e7e44559552f",
   "metadata": {},
   "outputs": [],
   "source": []
  }
 ],
 "metadata": {
  "kernelspec": {
   "display_name": "Python 3 (ipykernel)",
   "language": "python",
   "name": "python3"
  },
  "language_info": {
   "codemirror_mode": {
    "name": "ipython",
    "version": 3
   },
   "file_extension": ".py",
   "mimetype": "text/x-python",
   "name": "python",
   "nbconvert_exporter": "python",
   "pygments_lexer": "ipython3",
   "version": "3.9.12"
  }
 },
 "nbformat": 4,
 "nbformat_minor": 5
}
